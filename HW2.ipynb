{
  "nbformat": 4,
  "nbformat_minor": 0,
  "metadata": {
    "colab": {
      "name": "HW2.ipynb",
      "provenance": [],
      "collapsed_sections": [],
      "authorship_tag": "ABX9TyMY4Pz+s0Jc7ql5SgkAToCy",
      "include_colab_link": true
    },
    "kernelspec": {
      "name": "python3",
      "display_name": "Python 3"
    },
    "language_info": {
      "name": "python"
    }
  },
  "cells": [
    {
      "cell_type": "markdown",
      "metadata": {
        "id": "view-in-github",
        "colab_type": "text"
      },
      "source": [
        "<a href=\"https://colab.research.google.com/github/Rizvi-07/Fundamentals-of-Programming-with-Python/blob/main/HW2.ipynb\" target=\"_parent\"><img src=\"https://colab.research.google.com/assets/colab-badge.svg\" alt=\"Open In Colab\"/></a>"
      ]
    },
    {
      "cell_type": "markdown",
      "source": [
        "**Problem 1:** https://leetcode.com/problems/maximum-product-of-three-numbers/\n",
        "\n",
        "**Problem Statement:** Given an integer array nums, find three numbers whose product is maximum and return the maximum product.\n",
        "\n",
        "**Example 1:**\n",
        "\n",
        "Input: nums = [1,2,3]\n",
        "Output: 6\n",
        "\n",
        "**Example 2:**\n",
        "\n",
        "Input: nums = [1,2,3,4]\n",
        "Output: 24"
      ],
      "metadata": {
        "id": "bvwb44fSWtlQ"
      }
    },
    {
      "cell_type": "code",
      "source": [
        "class Solution(object):\n",
        "    def maximumProduct(self, nums):\n",
        "        \"\"\"\n",
        "        :type nums: List[int]\n",
        "        :rtype: int\n",
        "        \"\"\"\n",
        "        nums.sort(reverse = True)\n",
        "        return max(nums[0]*nums[1]*nums[2],nums[0]*nums[len(nums)-1]*nums[len(nums)-2])\n",
        "\n"
      ],
      "metadata": {
        "id": "0Bkce7xWWS5N"
      },
      "execution_count": 10,
      "outputs": []
    },
    {
      "cell_type": "code",
      "source": [
        "nums = [-1,-2,-3]\n",
        "#nums = [1,2,3,4]\n",
        "#nums = [1,2,3]\n",
        "solution = Solution()\n",
        "solution.maximumProduct(nums)"
      ],
      "metadata": {
        "colab": {
          "base_uri": "https://localhost:8080/"
        },
        "id": "b-rHy-PeXY3Q",
        "outputId": "2af04cbc-a723-40e0-ae87-4eea754c0c66"
      },
      "execution_count": 11,
      "outputs": [
        {
          "output_type": "execute_result",
          "data": {
            "text/plain": [
              "-6"
            ]
          },
          "metadata": {},
          "execution_count": 11
        }
      ]
    },
    {
      "cell_type": "markdown",
      "source": [
        "**Problem 2:** https://leetcode.com/problems/richest-customer-wealth/\n",
        "\n",
        "**Problem Statement:** You are given an m x n integer grid accounts where accounts[i][j] is the amount of money the i​​​​​​​​​​​th​​​​ customer has in the j​​​​​​​​​​​th​​​​ bank. Return the wealth that the richest customer has.\n",
        "\n",
        "A customer's wealth is the amount of money they have in all their bank accounts. The richest customer is the customer that has the maximum wealth.\n",
        "\n",
        "**Example 1:**\n",
        "\n",
        "Input: accounts = [[1,2,3],[3,2,1]]\n",
        "Output: 6\n",
        "\n",
        "**Example 3:**\n",
        "\n",
        "Input: accounts = [[2,8,7],[7,1,3],[1,9,5]]\n",
        "Output: 17"
      ],
      "metadata": {
        "id": "A8b7Zk95Yymh"
      }
    },
    {
      "cell_type": "code",
      "source": [
        "class Solution(object):\n",
        "    def maximumWealth(self, accounts):\n",
        "        \"\"\"\n",
        "        :type accounts: List[List[int]]\n",
        "        :rtype: int\n",
        "        \"\"\"\n",
        "        max_Value = 0\n",
        "        for item in accounts:\n",
        "          if sum(item) > max_Value:\n",
        "              max_Value = sum(item)\n",
        "        return max_Value"
      ],
      "metadata": {
        "id": "CBoCllTVZLr7"
      },
      "execution_count": 12,
      "outputs": []
    },
    {
      "cell_type": "code",
      "source": [
        "accounts = [[1,2,3],[3,2,1]]\n",
        "#accounts = [[1,5],[7,3],[3,5]]\n",
        "#accounts = [[2,8,7],[7,1,3],[1,9,5]]\n",
        "solution = Solution()\n",
        "solution.maximumWealth(accounts)"
      ],
      "metadata": {
        "colab": {
          "base_uri": "https://localhost:8080/"
        },
        "id": "hhKIWNTnZPPQ",
        "outputId": "7fc7f9e5-5cb8-4035-f721-796d6f4b1024"
      },
      "execution_count": 16,
      "outputs": [
        {
          "output_type": "execute_result",
          "data": {
            "text/plain": [
              "6"
            ]
          },
          "metadata": {},
          "execution_count": 16
        }
      ]
    },
    {
      "cell_type": "markdown",
      "source": [
        "**Problem 3:** https://leetcode.com/problems/shuffle-the-array/\n",
        "\n",
        "**Problem Statement:** Given the array nums consisting of 2n elements in the form [x1,x2,...,xn,y1,y2,...,yn].\n",
        "\n",
        "Return the array in the form [x1,y1,x2,y2,...,xn,yn].\n",
        "\n",
        "**Example 1:**\n",
        "\n",
        "Input: nums = [2,5,1,3,4,7], n = 3\n",
        "Output: [2,3,5,4,1,7]\n",
        "\n",
        "**Example 2:**\n",
        "\n",
        "Input: nums = [1,2,3,4,4,3,2,1], n = 4\n",
        "Output: [1,4,2,3,3,2,4,1]\n",
        "\n",
        "**Example 3:**\n",
        "\n",
        "Input: nums = [1,1,2,2], n = 2\n",
        "Output: [1,2,1,2]"
      ],
      "metadata": {
        "id": "FpKQiNulaPNy"
      }
    },
    {
      "cell_type": "code",
      "source": [
        "class Solution(object):\n",
        "    def shuffle(self, nums, n):\n",
        "        \"\"\"\n",
        "        :type nums: List[int]\n",
        "        :type n: int\n",
        "        :rtype: List[int]\n",
        "        \"\"\"\n",
        "        modified_Nums = []\n",
        "        for x in range(n):\n",
        "            modified_Nums.append(nums[x])\n",
        "            modified_Nums.append(nums[n+x])\n",
        "        \n",
        "        return modified_Nums"
      ],
      "metadata": {
        "id": "aWlgmXVRahOf"
      },
      "execution_count": 17,
      "outputs": []
    },
    {
      "cell_type": "code",
      "source": [
        "nums = [2,5,1,3,4,7]\n",
        "n = 3\n",
        "#nums = [1,2,3,4,4,3,2,1]\n",
        "#n = 4\n",
        "#nums = [1,1,2,2]\n",
        "#n = 2\n",
        "solution = Solution()\n",
        "solution.shuffle(nums,n)"
      ],
      "metadata": {
        "colab": {
          "base_uri": "https://localhost:8080/"
        },
        "id": "8sHrDXOwal82",
        "outputId": "4b65b51a-8cd1-4510-de01-bcdbd8693018"
      },
      "execution_count": 19,
      "outputs": [
        {
          "output_type": "execute_result",
          "data": {
            "text/plain": [
              "[2, 3, 5, 4, 1, 7]"
            ]
          },
          "metadata": {},
          "execution_count": 19
        }
      ]
    },
    {
      "cell_type": "markdown",
      "source": [
        "**Problem 4:** https://leetcode.com/problems/valid-perfect-square/\n",
        "\n",
        "**Problem Statement:** Given a positive integer num, write a function which returns True if num is a perfect square else False.\n",
        "\n",
        "Follow up: Do not use any built-in library function such as sqrt.\n",
        "\n",
        "**Example 1:**\n",
        "\n",
        "Input: num = 16\n",
        "Output: true\n",
        "\n",
        "**Example 2:**\n",
        "\n",
        "Input: num = 14\n",
        "Output: false"
      ],
      "metadata": {
        "id": "io7gu0a6bUxJ"
      }
    },
    {
      "cell_type": "code",
      "source": [
        "class Solution(object):\n",
        "    def isPerfectSquare(self, num):\n",
        "        \"\"\"\n",
        "        :type num: int\n",
        "        :rtype: bool\n",
        "        \"\"\"\n",
        "        return (num ** 0.5).is_integer()"
      ],
      "metadata": {
        "id": "gODue-nxbh9w"
      },
      "execution_count": 20,
      "outputs": []
    },
    {
      "cell_type": "code",
      "source": [
        "num = 16\n",
        "#num = 14\n",
        "solution = Solution()\n",
        "solution.isPerfectSquare(num)"
      ],
      "metadata": {
        "colab": {
          "base_uri": "https://localhost:8080/"
        },
        "id": "REA1HS2lbkGo",
        "outputId": "aea09b08-d159-4d9c-ec01-3674ff2b1399"
      },
      "execution_count": 21,
      "outputs": [
        {
          "output_type": "execute_result",
          "data": {
            "text/plain": [
              "True"
            ]
          },
          "metadata": {},
          "execution_count": 21
        }
      ]
    }
  ]
}