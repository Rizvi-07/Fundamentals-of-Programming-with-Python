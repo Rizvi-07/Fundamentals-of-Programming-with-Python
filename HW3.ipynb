{
  "nbformat": 4,
  "nbformat_minor": 0,
  "metadata": {
    "colab": {
      "name": "HW3.ipynb",
      "provenance": [],
      "authorship_tag": "ABX9TyOmdB0H+xrBvcMImMjLIPVR",
      "include_colab_link": true
    },
    "kernelspec": {
      "name": "python3",
      "display_name": "Python 3"
    },
    "language_info": {
      "name": "python"
    }
  },
  "cells": [
    {
      "cell_type": "markdown",
      "metadata": {
        "id": "view-in-github",
        "colab_type": "text"
      },
      "source": [
        "<a href=\"https://colab.research.google.com/github/Rizvi-07/Fundamentals-of-Programming-with-Python/blob/main/HW3.ipynb\" target=\"_parent\"><img src=\"https://colab.research.google.com/assets/colab-badge.svg\" alt=\"Open In Colab\"/></a>"
      ]
    },
    {
      "cell_type": "markdown",
      "source": [
        "**Link:** https://leetcode.com/problems/power-of-two/\n",
        "\n",
        "**Problem Statement:** \n",
        "Given an integer n, return true if it is a power of two. Otherwise, return false.\n",
        "\n",
        "An integer n is a power of two, if there exists an integer x such that n == 2x.\n",
        "\n",
        "**Example 1:**\n",
        "\n",
        "Input: n = 1\n",
        "Output: true\n",
        "Explanation: 20 = 1\n",
        "\n",
        "**Example 2:**\n",
        "\n",
        "Input: n = 16\n",
        "Output: true\n",
        "Explanation: 24 = 16\n",
        "\n",
        "**Example 3:**\n",
        "\n",
        "Input: n = 3\n",
        "Output: false"
      ],
      "metadata": {
        "id": "k8yAfYUjvE09"
      }
    },
    {
      "cell_type": "code",
      "source": [
        "import math\n",
        "\n",
        "def isPowerOfTwo(num):\n",
        "    log2_value = math.log10(2)\n",
        "    if(num<0):\n",
        "        print(\"Operation is not possible\")\n",
        "        return False;\n",
        "    else:\n",
        "        x = math.log10(num)/log2_value\n",
        "        return num == 2**int(x)"
      ],
      "metadata": {
        "id": "26aoz_juvnyy"
      },
      "execution_count": 1,
      "outputs": []
    },
    {
      "cell_type": "code",
      "source": [
        "num = -16\n",
        "output = isPowerOfTwo(num)\n",
        "print(output)"
      ],
      "metadata": {
        "colab": {
          "base_uri": "https://localhost:8080/"
        },
        "id": "UJBXi_bovwLh",
        "outputId": "28ccb734-8462-43f3-cc1d-d9ac6cfe726c"
      },
      "execution_count": 2,
      "outputs": [
        {
          "output_type": "stream",
          "name": "stdout",
          "text": [
            "Operation is not possible\n",
            "False\n"
          ]
        }
      ]
    },
    {
      "cell_type": "markdown",
      "source": [
        "**Link:** https://leetcode.com/problems/contains-duplicate/\n",
        "\n",
        "**Problem Statement: **\n",
        "Given an integer array nums, return true if any value appears at least twice in the array, and return false if every element is distinct.\n",
        "\n",
        "**Example 1:**\n",
        "\n",
        "Input: nums = [1,2,3,1]\n",
        "Output: true\n",
        "\n",
        "**Example 2:**\n",
        "\n",
        "Input: nums = [1,2,3,4]\n",
        "Output: false\n",
        "\n",
        "**Example 3:**\n",
        "\n",
        "Input: nums = [1,1,1,3,3,4,3,2,4,2]\n",
        "Output: true"
      ],
      "metadata": {
        "id": "ml8NUi-CxRlu"
      }
    },
    {
      "cell_type": "code",
      "source": [
        "def containsDuplicate(nums):\n",
        "    dict_1 = {}\n",
        "    for item in nums:\n",
        "        dict_1[item] = 0\n",
        "    #print(dict_1)  \n",
        "    return len(nums) != len(dict_1)"
      ],
      "metadata": {
        "id": "Yh6lNEX_xpbI"
      },
      "execution_count": 3,
      "outputs": []
    },
    {
      "cell_type": "code",
      "source": [
        "nums = [1,1,1,3,3,4,3,2,4,2]\n",
        "output = containsDuplicate(nums)\n",
        "print(output)"
      ],
      "metadata": {
        "colab": {
          "base_uri": "https://localhost:8080/"
        },
        "id": "fRVNrr3kxwb_",
        "outputId": "26a97c0b-ad73-4197-9b46-46551c96f263"
      },
      "execution_count": 4,
      "outputs": [
        {
          "output_type": "stream",
          "name": "stdout",
          "text": [
            "True\n"
          ]
        }
      ]
    },
    {
      "cell_type": "markdown",
      "source": [
        "**Link:** https://leetcode.com/problems/two-sum/\n",
        "\n",
        "**Problem Statement:** \n",
        "Given an array of integers nums and an integer target, return indices of the two numbers such that they add up to target.\n",
        "\n",
        "You may assume that each input would have exactly one solution, and you may not use the same element twice.\n",
        "\n",
        "You can return the answer in any order.\n",
        "\n",
        "**Example 1:**\n",
        "\n",
        "Input: nums = [2,7,11,15], target = 9\n",
        "Output: [0,1]\n",
        "Explanation: Because nums[0] + nums[1] == 9, we return [0, 1].\n",
        "\n",
        "**Example 2:**\n",
        "\n",
        "Input: nums = [3,2,4], target = 6\n",
        "Output: [1,2]\n",
        "\n",
        "**Example 3:**\n",
        "\n",
        "Input: nums = [3,3], target = 6\n",
        "Output: [0,1]"
      ],
      "metadata": {
        "id": "wNzOhQxCx9Hz"
      }
    },
    {
      "cell_type": "code",
      "source": [
        "def twoSum(nums, target):\n",
        "        extra = nums.copy()\n",
        "        cnt = 0\n",
        "        list_1 = []\n",
        "        for item in nums:\n",
        "            val = target - item\n",
        "            extra.remove(item)\n",
        "            cnt = cnt + 1\n",
        "            if val in extra:\n",
        "              list_1.append(nums.index(item))\n",
        "              list_1.append(extra.index(val) + cnt)\n",
        "              return list_1"
      ],
      "metadata": {
        "id": "4zdOmsgByYJH"
      },
      "execution_count": 5,
      "outputs": []
    },
    {
      "cell_type": "code",
      "source": [
        "nums = [3,3]\n",
        "target = 6\n",
        "myList = twoSum(nums,target)\n",
        "print(myList)"
      ],
      "metadata": {
        "colab": {
          "base_uri": "https://localhost:8080/"
        },
        "id": "Voljbm6fyifV",
        "outputId": "85a5a19a-c06b-4495-bced-0d6a8e348991"
      },
      "execution_count": 6,
      "outputs": [
        {
          "output_type": "stream",
          "name": "stdout",
          "text": [
            "[0, 1]\n"
          ]
        }
      ]
    },
    {
      "cell_type": "code",
      "source": [
        ""
      ],
      "metadata": {
        "id": "a1vL33wmymT8"
      },
      "execution_count": null,
      "outputs": []
    }
  ]
}